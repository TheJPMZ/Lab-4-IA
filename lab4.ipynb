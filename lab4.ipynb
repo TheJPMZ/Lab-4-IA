{
 "cells": [
  {
   "attachments": {},
   "cell_type": "markdown",
   "metadata": {},
   "source": [
    "# Regresion logistica polinomica\n",
    "Autor: Jose Monzon\n",
    "\n",
    "Datos brindados para el laboratorio por el profesor. Tomados de Kaggle. \n",
    "Para este trabajo se utilizaron muchos de los ejercicios vistos en la clase de Samuel Chavez, 2023. Repositorio: https://github.com/samuelchvez/python-ml-2021\n",
    "\n",
    "\n",
    "## Task 1\n",
    "Leer el archivo `.csv` a un p array."
   ]
  },
  {
   "cell_type": "code",
   "execution_count": 35,
   "metadata": {},
   "outputs": [],
   "source": [
    "import numpy as np\n",
    "import csv\n",
    "from matplotlib import pyplot as plt\n",
    "\n",
    "raw_data = csv.reader(open('framingham.csv', 'r'))\n",
    "raw_data = np.array(list(raw_data))"
   ]
  },
  {
   "cell_type": "code",
   "execution_count": 36,
   "metadata": {},
   "outputs": [
    {
     "data": {
      "text/plain": [
       "array([[ 39. , 106. ,  70. ,   0. ],\n",
       "       [ 46. , 121. ,  81. ,   0. ],\n",
       "       [ 48. , 127.5,  80. ,   0. ],\n",
       "       ...,\n",
       "       [ 48. , 131. ,  72. ,   0. ],\n",
       "       [ 44. , 126.5,  87. ,   0. ],\n",
       "       [ 52. , 133.5,  83. ,   0. ]])"
      ]
     },
     "execution_count": 36,
     "metadata": {},
     "output_type": "execute_result"
    }
   ],
   "source": [
    "headers = list(raw_data[0])\n",
    "data = raw_data[1:]\n",
    "\n",
    "y = data[:,headers.index('TenYearCHD')]\n",
    "y = y.reshape(-1,1)\n",
    "y = y.astype(int)\n",
    "\n",
    "# Variables to be used in the model: age, sysBP, diaBP, prevalentHyp\n",
    "\n",
    "age = data[:,headers.index('age')].reshape(-1,1).astype(float)\n",
    "sysBP = data[:,headers.index('sysBP')].reshape(-1,1).astype(float)\n",
    "diaBP = data[:,headers.index('diaBP')].reshape(-1,1).astype(float)\n",
    "prevalentHyp = data[:,headers.index('prevalentHyp')].reshape(-1,1).astype(int)\n",
    "\n",
    "X = np.concatenate((age, sysBP, diaBP, prevalentHyp), axis=1)\n",
    "X\n"
   ]
  },
  {
   "attachments": {},
   "cell_type": "markdown",
   "metadata": {},
   "source": [
    "# Task 2\n",
    "Ajustar un modelo logístico polinomial en base al juego de datos cargado de forma matricial que relaciona las\n",
    "variables independientes que usted considere apropiadas (puede no utilizar todas las componentes de X), con la\n",
    "variable dependiente de salida (sufre o no sufre un paro cardíaco)."
   ]
  },
  {
   "cell_type": "code",
   "execution_count": 40,
   "metadata": {},
   "outputs": [],
   "source": [
    "def sigmoid(x): return 1 / (1 + np.exp(-x))\n",
    "\n",
    "def cost(X, y, t):\n",
    "    return np.sum((np.dot(X, t) - y) ** 2) / len(X)\n",
    "\n",
    "def logistic_regression(X, y, l, iterations):\n",
    "    theta = np.zeros((X.shape[1], 1))\n",
    "    m = len(X)\n",
    "    for i in range(iterations):\n",
    "        z = np.dot(X, theta)\n",
    "        h = sigmoid(z)\n",
    "        gradient = np.dot(X.T, (h - y)) / m\n",
    "        theta -= l * gradient\n",
    "    return theta\n",
    "\n",
    "def predict(X, theta):\n",
    "    return (sigmoid(X @ theta) >= 0.5).astype(int)"
   ]
  },
  {
   "attachments": {},
   "cell_type": "markdown",
   "metadata": {},
   "source": [
    "## Task 3\n",
    "Utilice la implementación vectorial del algoritmo de regresión logística (descenso del gradiente visto en clase)"
   ]
  },
  {
   "cell_type": "code",
   "execution_count": 41,
   "metadata": {},
   "outputs": [
    {
     "name": "stdout",
     "output_type": "stream",
     "text": [
      "Accuracy:  0.8489853704577631\n"
     ]
    }
   ],
   "source": [
    "from sklearn.model_selection import train_test_split\n",
    "X_train, X_test, y_train, y_test = train_test_split(X, y, test_size=0.2)\n",
    "\n",
    "w = logistic_regression(X, y, 0.0001, 10000)\n",
    "\n",
    "y_hat = predict(X, w)\n",
    "\n",
    "print('Accuracy: ', np.sum(y_hat == y) / len(y))"
   ]
  },
  {
   "attachments": {},
   "cell_type": "markdown",
   "metadata": {},
   "source": [
    "## Task 4\n",
    "Usando cross-validation determine el grado del polinomio que mejor describe la nube de puntos (encuentre el mejor balance entre apego a los datos de entrenamiento y generalización para datos previamente no observados)."
   ]
  },
  {
   "cell_type": "code",
   "execution_count": 42,
   "metadata": {},
   "outputs": [
    {
     "name": "stdout",
     "output_type": "stream",
     "text": [
      "best_degree =  5\n"
     ]
    }
   ],
   "source": [
    "def training_test(data, train_size = 0.8):\n",
    "    np.random.shuffle(data)\n",
    "    train_size = int(train_size * len(data))\n",
    "    return data[:train_size], data[train_size:]\n",
    "\n",
    "def mean_squared_error(X, y, degree):\n",
    "    X_poly = np.column_stack([X ** i for i in range(1, degree + 1)])\n",
    "    X_poly = np.insert(X_poly, 0, 1, axis = 1)\n",
    "    theta = np.linalg.inv(X_poly.T.dot(X_poly)).dot(X_poly.T).dot(y)\n",
    "    y_pred = np.dot(X_poly, theta)\n",
    "    mse = np.sum((y - y_pred) ** 2) / len(X)\n",
    "    return mse\n",
    "\n",
    "def cross_validation(data, degree, k = 3):\n",
    "    np.random.shuffle(data)\n",
    "    mse = 0\n",
    "    for i in range(k):\n",
    "        test_i = np.arange(i, len(data), k)\n",
    "        train_i = np.setdiff1d(np.arange(len(data)), test_i)\n",
    "        mse += mean_squared_error(data[train_i][:, 0], data[train_i][:, 1], degree)\n",
    "    mse /= k\n",
    "    return mse\n",
    "        \n",
    "def best_degree(data, max):\n",
    "    mse_best = float('inf')\n",
    "    for d in range(1, max):\n",
    "        mse = cross_validation(data, d)\n",
    "        if mse < mse_best:\n",
    "            mse_best = mse\n",
    "            degree_best = d\n",
    "    return degree_best\n",
    "    \n",
    "data_train, data_test = training_test(np.column_stack((X, y)), train_size = 0.8)\n",
    "\n",
    "best_degree = best_degree(data_train, 50) # Probamos con distintos grados de polinomio para ver cual es el mejor\n",
    "\n",
    "print(\"best_degree = \", best_degree)"
   ]
  },
  {
   "attachments": {},
   "cell_type": "markdown",
   "metadata": {},
   "source": [
    "## Task 5 : Analisis de resultados"
   ]
  },
  {
   "cell_type": "code",
   "execution_count": 43,
   "metadata": {},
   "outputs": [
    {
     "name": "stdout",
     "output_type": "stream",
     "text": [
      "Accuracy:  0.8489853704577631\n",
      "Best Degree:  5\n"
     ]
    }
   ],
   "source": [
    "print(\"Accuracy: \", np.sum(y_hat == y) / len(y))\n",
    "print(\"Best Degree: \", best_degree)"
   ]
  },
  {
   "attachments": {},
   "cell_type": "markdown",
   "metadata": {},
   "source": [
    "Utlizando las variables de edad, presion sistolica, presion diastolica y si el paciente era hipertenso, se obtuvo un modelo con un 84,8% de presicion al realizarle una regresion logistica y comprobarlo utilizando validacion cruzada. Asimismo se obtuvo que el grado optimo del polinomio es cuando este cuenta con 5 grados.\n",
    "\n",
    "Este modelo puede ser utilizado para predecir si un paciente sufre un paro cardiaco o no, en base a su flujo sanguineo, presion arterial y edad. Sin embargo al no tener una accuracy lo suficientemente alta como para ser utilizado en la practica, se recomienda realizar mas pruebas para mejorar el modelo."
   ]
  },
  {
   "cell_type": "markdown",
   "metadata": {},
   "source": []
  },
  {
   "attachments": {},
   "cell_type": "markdown",
   "metadata": {},
   "source": [
    "\n",
    "\n"
   ]
  }
 ],
 "metadata": {
  "kernelspec": {
   "display_name": "Python 3",
   "language": "python",
   "name": "python3"
  },
  "language_info": {
   "codemirror_mode": {
    "name": "ipython",
    "version": 3
   },
   "file_extension": ".py",
   "mimetype": "text/x-python",
   "name": "python",
   "nbconvert_exporter": "python",
   "pygments_lexer": "ipython3",
   "version": "3.10.2"
  },
  "orig_nbformat": 4
 },
 "nbformat": 4,
 "nbformat_minor": 2
}
